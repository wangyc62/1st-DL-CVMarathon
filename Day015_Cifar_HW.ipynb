{
 "cells": [
  {
   "cell_type": "markdown",
   "metadata": {},
   "source": [
    "## 『本次練習內容』\n",
    "#### 運用這幾天所學觀念搭建一個CNN分類器"
   ]
  },
  {
   "cell_type": "markdown",
   "metadata": {},
   "source": [
    "## 『本次練習目的』\n",
    "  #### 熟悉CNN分類器搭建步驟與原理\n",
    "  #### 學員們可以嘗試不同搭法，如使用不同的Maxpooling層，用GlobalAveragePooling取代Flatten等等"
   ]
  },
  {
   "cell_type": "code",
   "execution_count": 1,
   "metadata": {},
   "outputs": [
    {
     "name": "stderr",
     "output_type": "stream",
     "text": [
      "Using TensorFlow backend.\n"
     ]
    }
   ],
   "source": [
    "from keras.models import Sequential\n",
    "from keras.layers import Convolution2D\n",
    "from keras.layers import MaxPooling2D\n",
    "from keras.layers import Flatten\n",
    "from keras.layers import Dense\n",
    "from keras.layers import Dropout\n",
    "from keras.layers import BatchNormalization\n",
    "from keras.datasets import cifar10\n",
    "import numpy as np\n",
    "import tensorflow as tf\n",
    "from sklearn.preprocessing import OneHotEncoder\n"
   ]
  },
  {
   "cell_type": "code",
   "execution_count": 2,
   "metadata": {},
   "outputs": [
    {
     "name": "stdout",
     "output_type": "stream",
     "text": [
      "(50000, 32, 32, 3)\n"
     ]
    }
   ],
   "source": [
    "(x_train, y_train), (x_test, y_test) = cifar10.load_data()\n",
    "\n",
    "print(x_train.shape) #(50000, 32, 32, 3)\n",
    "\n",
    "## Normalize Data\n",
    "def normalize(X_train,X_test):\n",
    "        mean = np.mean(X_train,axis=(0,1,2,3))\n",
    "        std = np.std(X_train, axis=(0, 1, 2, 3))\n",
    "        X_train = (X_train-mean)/(std+1e-7)\n",
    "        X_test = (X_test-mean)/(std+1e-7) \n",
    "        return X_train, X_test,mean,std\n",
    "    \n",
    "    \n",
    "## Normalize Training and Testset    \n",
    "x_train, x_test,mean_train,std_train = normalize(x_train, x_test) "
   ]
  },
  {
   "cell_type": "code",
   "execution_count": 3,
   "metadata": {},
   "outputs": [
    {
     "name": "stderr",
     "output_type": "stream",
     "text": [
      "C:\\Anaconda3\\envs\\testAI\\lib\\site-packages\\sklearn\\preprocessing\\_encoders.py:415: FutureWarning: The handling of integer data will change in version 0.22. Currently, the categories are determined based on the range [0, max(values)], while in the future they will be determined based on the unique values.\n",
      "If you want the future behaviour and silence this warning, you can specify \"categories='auto'\".\n",
      "In case you used a LabelEncoder before this OneHotEncoder to convert the categories to integers, then you can now use the OneHotEncoder directly.\n",
      "  warnings.warn(msg, FutureWarning)\n"
     ]
    }
   ],
   "source": [
    "## OneHot Label 由(None, 1)-(None, 10)\n",
    "## ex. label=2,變成[0,0,1,0,0,0,0,0,0,0]\n",
    "one_hot=OneHotEncoder()\n",
    "y_train=one_hot.fit_transform(y_train).toarray()\n",
    "y_test=one_hot.transform(y_test).toarray()"
   ]
  },
  {
   "cell_type": "code",
   "execution_count": 4,
   "metadata": {},
   "outputs": [
    {
     "name": "stdout",
     "output_type": "stream",
     "text": [
      "WARNING:tensorflow:From C:\\Anaconda3\\envs\\testAI\\lib\\site-packages\\keras\\backend\\tensorflow_backend.py:74: The name tf.get_default_graph is deprecated. Please use tf.compat.v1.get_default_graph instead.\n",
      "\n",
      "WARNING:tensorflow:From C:\\Anaconda3\\envs\\testAI\\lib\\site-packages\\keras\\backend\\tensorflow_backend.py:517: The name tf.placeholder is deprecated. Please use tf.compat.v1.placeholder instead.\n",
      "\n",
      "WARNING:tensorflow:From C:\\Anaconda3\\envs\\testAI\\lib\\site-packages\\keras\\backend\\tensorflow_backend.py:4138: The name tf.random_uniform is deprecated. Please use tf.random.uniform instead.\n",
      "\n",
      "WARNING:tensorflow:From C:\\Anaconda3\\envs\\testAI\\lib\\site-packages\\keras\\backend\\tensorflow_backend.py:174: The name tf.get_default_session is deprecated. Please use tf.compat.v1.get_default_session instead.\n",
      "\n",
      "WARNING:tensorflow:From C:\\Anaconda3\\envs\\testAI\\lib\\site-packages\\keras\\backend\\tensorflow_backend.py:181: The name tf.ConfigProto is deprecated. Please use tf.compat.v1.ConfigProto instead.\n",
      "\n",
      "WARNING:tensorflow:From C:\\Anaconda3\\envs\\testAI\\lib\\site-packages\\keras\\backend\\tensorflow_backend.py:186: The name tf.Session is deprecated. Please use tf.compat.v1.Session instead.\n",
      "\n",
      "WARNING:tensorflow:From C:\\Anaconda3\\envs\\testAI\\lib\\site-packages\\keras\\backend\\tensorflow_backend.py:190: The name tf.global_variables is deprecated. Please use tf.compat.v1.global_variables instead.\n",
      "\n",
      "WARNING:tensorflow:From C:\\Anaconda3\\envs\\testAI\\lib\\site-packages\\keras\\backend\\tensorflow_backend.py:199: The name tf.is_variable_initialized is deprecated. Please use tf.compat.v1.is_variable_initialized instead.\n",
      "\n",
      "WARNING:tensorflow:From C:\\Anaconda3\\envs\\testAI\\lib\\site-packages\\keras\\backend\\tensorflow_backend.py:206: The name tf.variables_initializer is deprecated. Please use tf.compat.v1.variables_initializer instead.\n",
      "\n",
      "WARNING:tensorflow:From C:\\Anaconda3\\envs\\testAI\\lib\\site-packages\\keras\\backend\\tensorflow_backend.py:1834: The name tf.nn.fused_batch_norm is deprecated. Please use tf.compat.v1.nn.fused_batch_norm instead.\n",
      "\n",
      "WARNING:tensorflow:From C:\\Anaconda3\\envs\\testAI\\lib\\site-packages\\keras\\backend\\tensorflow_backend.py:133: The name tf.placeholder_with_default is deprecated. Please use tf.compat.v1.placeholder_with_default instead.\n",
      "\n",
      "WARNING:tensorflow:From C:\\Anaconda3\\envs\\testAI\\lib\\site-packages\\keras\\backend\\tensorflow_backend.py:3976: The name tf.nn.max_pool is deprecated. Please use tf.nn.max_pool2d instead.\n",
      "\n",
      "WARNING:tensorflow:From C:\\Anaconda3\\envs\\testAI\\lib\\site-packages\\keras\\optimizers.py:790: The name tf.train.Optimizer is deprecated. Please use tf.compat.v1.train.Optimizer instead.\n",
      "\n",
      "WARNING:tensorflow:From C:\\Anaconda3\\envs\\testAI\\lib\\site-packages\\keras\\backend\\tensorflow_backend.py:3295: The name tf.log is deprecated. Please use tf.math.log instead.\n",
      "\n",
      "WARNING:tensorflow:From C:\\Anaconda3\\envs\\testAI\\lib\\site-packages\\tensorflow_core\\python\\ops\\math_grad.py:1424: where (from tensorflow.python.ops.array_ops) is deprecated and will be removed in a future version.\n",
      "Instructions for updating:\n",
      "Use tf.where in 2.0, which has the same broadcast rule as np.where\n"
     ]
    },
    {
     "name": "stderr",
     "output_type": "stream",
     "text": [
      "C:\\Anaconda3\\envs\\testAI\\lib\\site-packages\\ipykernel_launcher.py:23: UserWarning: Update your `Dense` call to the Keras 2 API: `Dense(activation=\"softmax\", units=10)`\n"
     ]
    },
    {
     "name": "stdout",
     "output_type": "stream",
     "text": [
      "WARNING:tensorflow:From C:\\Anaconda3\\envs\\testAI\\lib\\site-packages\\keras\\backend\\tensorflow_backend.py:986: The name tf.assign_add is deprecated. Please use tf.compat.v1.assign_add instead.\n",
      "\n",
      "WARNING:tensorflow:From C:\\Anaconda3\\envs\\testAI\\lib\\site-packages\\keras\\backend\\tensorflow_backend.py:973: The name tf.assign is deprecated. Please use tf.compat.v1.assign instead.\n",
      "\n",
      "Epoch 1/100\n",
      "50000/50000 [==============================] - 60s 1ms/step - loss: 1.2490 - acc: 0.5679\n",
      "Epoch 2/100\n",
      "50000/50000 [==============================] - 59s 1ms/step - loss: 0.8047 - acc: 0.7174\n",
      "Epoch 3/100\n",
      "50000/50000 [==============================] - 58s 1ms/step - loss: 0.5768 - acc: 0.7987\n",
      "Epoch 4/100\n",
      "50000/50000 [==============================] - 59s 1ms/step - loss: 0.3911 - acc: 0.8645\n",
      "Epoch 5/100\n",
      "50000/50000 [==============================] - 58s 1ms/step - loss: 0.2515 - acc: 0.9139\n",
      "Epoch 6/100\n",
      "50000/50000 [==============================] - 59s 1ms/step - loss: 0.1724 - acc: 0.9413\n",
      "Epoch 7/100\n",
      "50000/50000 [==============================] - 58s 1ms/step - loss: 0.1372 - acc: 0.9531\n",
      "Epoch 8/100\n",
      "50000/50000 [==============================] - 58s 1ms/step - loss: 0.1186 - acc: 0.9590\n",
      "Epoch 9/100\n",
      "50000/50000 [==============================] - 58s 1ms/step - loss: 0.1014 - acc: 0.9645\n",
      "Epoch 10/100\n",
      "50000/50000 [==============================] - 58s 1ms/step - loss: 0.0793 - acc: 0.9726\n",
      "Epoch 11/100\n",
      "50000/50000 [==============================] - 58s 1ms/step - loss: 0.0856 - acc: 0.9716\n",
      "Epoch 12/100\n",
      "50000/50000 [==============================] - 58s 1ms/step - loss: 0.0707 - acc: 0.9767\n",
      "Epoch 13/100\n",
      "50000/50000 [==============================] - 58s 1ms/step - loss: 0.0675 - acc: 0.9773\n",
      "Epoch 14/100\n",
      "50000/50000 [==============================] - 58s 1ms/step - loss: 0.0674 - acc: 0.9769\n",
      "Epoch 15/100\n",
      "50000/50000 [==============================] - 59s 1ms/step - loss: 0.0659 - acc: 0.9780\n",
      "Epoch 16/100\n",
      "50000/50000 [==============================] - 61s 1ms/step - loss: 0.0573 - acc: 0.9807\n",
      "Epoch 17/100\n",
      "50000/50000 [==============================] - 66s 1ms/step - loss: 0.0529 - acc: 0.9822\n",
      "Epoch 18/100\n",
      "50000/50000 [==============================] - 68s 1ms/step - loss: 0.0507 - acc: 0.9831\n",
      "Epoch 19/100\n",
      "50000/50000 [==============================] - 67s 1ms/step - loss: 0.0489 - acc: 0.9834\n",
      "Epoch 20/100\n",
      "50000/50000 [==============================] - 65s 1ms/step - loss: 0.0442 - acc: 0.9859\n",
      "Epoch 21/100\n",
      "50000/50000 [==============================] - 71s 1ms/step - loss: 0.0421 - acc: 0.9857\n",
      "Epoch 22/100\n",
      "50000/50000 [==============================] - 71s 1ms/step - loss: 0.0470 - acc: 0.9848\n",
      "Epoch 23/100\n",
      "50000/50000 [==============================] - 63s 1ms/step - loss: 0.0381 - acc: 0.9870\n",
      "Epoch 24/100\n",
      "50000/50000 [==============================] - 64s 1ms/step - loss: 0.0373 - acc: 0.9874\n",
      "Epoch 25/100\n",
      "50000/50000 [==============================] - 66s 1ms/step - loss: 0.0402 - acc: 0.9873\n",
      "Epoch 26/100\n",
      "50000/50000 [==============================] - 61s 1ms/step - loss: 0.0322 - acc: 0.9898\n",
      "Epoch 27/100\n",
      "50000/50000 [==============================] - 59s 1ms/step - loss: 0.0431 - acc: 0.9860\n",
      "Epoch 28/100\n",
      "50000/50000 [==============================] - 58s 1ms/step - loss: 0.0451 - acc: 0.9854\n",
      "Epoch 29/100\n",
      "50000/50000 [==============================] - 59s 1ms/step - loss: 0.0220 - acc: 0.9930\n",
      "Epoch 30/100\n",
      "50000/50000 [==============================] - 60s 1ms/step - loss: 0.0227 - acc: 0.9922\n",
      "Epoch 31/100\n",
      "50000/50000 [==============================] - 66s 1ms/step - loss: 0.0402 - acc: 0.9875\n",
      "Epoch 32/100\n",
      "50000/50000 [==============================] - 69s 1ms/step - loss: 0.0350 - acc: 0.9892\n",
      "Epoch 33/100\n",
      "50000/50000 [==============================] - 63s 1ms/step - loss: 0.0289 - acc: 0.9908\n",
      "Epoch 34/100\n",
      "50000/50000 [==============================] - 63s 1ms/step - loss: 0.0284 - acc: 0.9914\n",
      "Epoch 35/100\n",
      "50000/50000 [==============================] - 63s 1ms/step - loss: 0.0385 - acc: 0.9880\n",
      "Epoch 36/100\n",
      "50000/50000 [==============================] - 64s 1ms/step - loss: 0.0295 - acc: 0.9907\n",
      "Epoch 37/100\n",
      "50000/50000 [==============================] - 64s 1ms/step - loss: 0.0261 - acc: 0.9915\n",
      "Epoch 38/100\n",
      "50000/50000 [==============================] - 60s 1ms/step - loss: 0.0319 - acc: 0.9899\n",
      "Epoch 39/100\n",
      "50000/50000 [==============================] - 62s 1ms/step - loss: 0.0343 - acc: 0.9895\n",
      "Epoch 40/100\n",
      "50000/50000 [==============================] - 62s 1ms/step - loss: 0.0253 - acc: 0.9916\n",
      "Epoch 41/100\n",
      "50000/50000 [==============================] - 64s 1ms/step - loss: 0.0193 - acc: 0.9941\n",
      "Epoch 42/100\n",
      "50000/50000 [==============================] - 59s 1ms/step - loss: 0.0189 - acc: 0.9938\n",
      "Epoch 43/100\n",
      "50000/50000 [==============================] - 59s 1ms/step - loss: 0.0228 - acc: 0.9930\n",
      "Epoch 44/100\n",
      "50000/50000 [==============================] - 59s 1ms/step - loss: 0.0284 - acc: 0.9914\n",
      "Epoch 45/100\n",
      "50000/50000 [==============================] - 59s 1ms/step - loss: 0.0211 - acc: 0.9933\n",
      "Epoch 46/100\n",
      "50000/50000 [==============================] - 59s 1ms/step - loss: 0.0228 - acc: 0.9930\n",
      "Epoch 47/100\n",
      "50000/50000 [==============================] - 59s 1ms/step - loss: 0.0148 - acc: 0.9956\n",
      "Epoch 48/100\n",
      "50000/50000 [==============================] - 59s 1ms/step - loss: 0.0205 - acc: 0.9933\n",
      "Epoch 49/100\n",
      "50000/50000 [==============================] - 59s 1ms/step - loss: 0.0312 - acc: 0.9904\n",
      "Epoch 50/100\n",
      "50000/50000 [==============================] - 59s 1ms/step - loss: 0.0212 - acc: 0.9933\n",
      "Epoch 51/100\n",
      "50000/50000 [==============================] - 59s 1ms/step - loss: 0.0184 - acc: 0.9943\n",
      "Epoch 52/100\n",
      "50000/50000 [==============================] - 59s 1ms/step - loss: 0.0159 - acc: 0.9950\n",
      "Epoch 53/100\n",
      "50000/50000 [==============================] - 58s 1ms/step - loss: 0.0206 - acc: 0.9932\n",
      "Epoch 54/100\n",
      "50000/50000 [==============================] - 58s 1ms/step - loss: 0.0262 - acc: 0.9918\n",
      "Epoch 55/100\n",
      "50000/50000 [==============================] - 58s 1ms/step - loss: 0.0200 - acc: 0.9942\n",
      "Epoch 56/100\n",
      "50000/50000 [==============================] - 58s 1ms/step - loss: 0.0189 - acc: 0.9941\n",
      "Epoch 57/100\n",
      "50000/50000 [==============================] - 59s 1ms/step - loss: 0.0183 - acc: 0.9944\n",
      "Epoch 58/100\n",
      "50000/50000 [==============================] - 59s 1ms/step - loss: 0.0165 - acc: 0.9946\n",
      "Epoch 59/100\n",
      "50000/50000 [==============================] - 59s 1ms/step - loss: 0.0120 - acc: 0.9960\n",
      "Epoch 60/100\n",
      "50000/50000 [==============================] - 59s 1ms/step - loss: 0.0140 - acc: 0.9957\n",
      "Epoch 61/100\n",
      "50000/50000 [==============================] - 59s 1ms/step - loss: 0.0210 - acc: 0.9934\n",
      "Epoch 62/100\n",
      "50000/50000 [==============================] - 59s 1ms/step - loss: 0.0210 - acc: 0.9931\n",
      "Epoch 63/100\n",
      "50000/50000 [==============================] - 60s 1ms/step - loss: 0.0212 - acc: 0.9935\n",
      "Epoch 64/100\n",
      "50000/50000 [==============================] - 59s 1ms/step - loss: 0.0126 - acc: 0.9962\n",
      "Epoch 65/100\n",
      "50000/50000 [==============================] - 59s 1ms/step - loss: 0.0145 - acc: 0.9955\n",
      "Epoch 66/100\n",
      "50000/50000 [==============================] - 59s 1ms/step - loss: 0.0211 - acc: 0.9938\n",
      "Epoch 67/100\n",
      "50000/50000 [==============================] - 59s 1ms/step - loss: 0.0214 - acc: 0.9936\n",
      "Epoch 68/100\n",
      "50000/50000 [==============================] - 59s 1ms/step - loss: 0.0101 - acc: 0.9971\n",
      "Epoch 69/100\n",
      "50000/50000 [==============================] - 59s 1ms/step - loss: 0.0123 - acc: 0.9960\n",
      "Epoch 70/100\n",
      "50000/50000 [==============================] - 59s 1ms/step - loss: 0.0182 - acc: 0.9941\n",
      "Epoch 71/100\n",
      "50000/50000 [==============================] - 61s 1ms/step - loss: 0.0136 - acc: 0.9959\n",
      "Epoch 72/100\n",
      "50000/50000 [==============================] - 63s 1ms/step - loss: 0.0177 - acc: 0.9945\n",
      "Epoch 73/100\n",
      "50000/50000 [==============================] - 63s 1ms/step - loss: 0.0144 - acc: 0.9954\n",
      "Epoch 74/100\n",
      "50000/50000 [==============================] - 59s 1ms/step - loss: 0.0145 - acc: 0.9955\n",
      "Epoch 75/100\n",
      "50000/50000 [==============================] - 58s 1ms/step - loss: 0.0172 - acc: 0.9947\n",
      "Epoch 76/100\n",
      "50000/50000 [==============================] - 59s 1ms/step - loss: 0.0160 - acc: 0.9949\n",
      "Epoch 77/100\n"
     ]
    },
    {
     "name": "stdout",
     "output_type": "stream",
     "text": [
      "50000/50000 [==============================] - 58s 1ms/step - loss: 0.0133 - acc: 0.9960\n",
      "Epoch 78/100\n",
      "50000/50000 [==============================] - 58s 1ms/step - loss: 0.0136 - acc: 0.9960\n",
      "Epoch 79/100\n",
      "50000/50000 [==============================] - 57s 1ms/step - loss: 0.0143 - acc: 0.9954\n",
      "Epoch 80/100\n",
      "50000/50000 [==============================] - 57s 1ms/step - loss: 0.0100 - acc: 0.9970\n",
      "Epoch 81/100\n",
      "50000/50000 [==============================] - 57s 1ms/step - loss: 0.0173 - acc: 0.9943\n",
      "Epoch 82/100\n",
      "50000/50000 [==============================] - 57s 1ms/step - loss: 0.0161 - acc: 0.9951\n",
      "Epoch 83/100\n",
      "50000/50000 [==============================] - 58s 1ms/step - loss: 0.0131 - acc: 0.9961\n",
      "Epoch 84/100\n",
      "50000/50000 [==============================] - 58s 1ms/step - loss: 0.0108 - acc: 0.9966\n",
      "Epoch 85/100\n",
      "50000/50000 [==============================] - 57s 1ms/step - loss: 0.0119 - acc: 0.9961\n",
      "Epoch 86/100\n",
      "50000/50000 [==============================] - 57s 1ms/step - loss: 0.0089 - acc: 0.9974\n",
      "Epoch 87/100\n",
      "50000/50000 [==============================] - 57s 1ms/step - loss: 0.0146 - acc: 0.9956\n",
      "Epoch 88/100\n",
      "50000/50000 [==============================] - 58s 1ms/step - loss: 0.0157 - acc: 0.9955\n",
      "Epoch 89/100\n",
      "50000/50000 [==============================] - 57s 1ms/step - loss: 0.0136 - acc: 0.9960\n",
      "Epoch 90/100\n",
      "50000/50000 [==============================] - 57s 1ms/step - loss: 0.0158 - acc: 0.9955\n",
      "Epoch 91/100\n",
      "50000/50000 [==============================] - 57s 1ms/step - loss: 0.0146 - acc: 0.9957\n",
      "Epoch 92/100\n",
      "50000/50000 [==============================] - 57s 1ms/step - loss: 0.0086 - acc: 0.9972\n",
      "Epoch 93/100\n",
      "50000/50000 [==============================] - 57s 1ms/step - loss: 0.0068 - acc: 0.9980\n",
      "Epoch 94/100\n",
      "50000/50000 [==============================] - 58s 1ms/step - loss: 0.0108 - acc: 0.9964\n",
      "Epoch 95/100\n",
      "50000/50000 [==============================] - 58s 1ms/step - loss: 0.0097 - acc: 0.9969\n",
      "Epoch 96/100\n",
      "50000/50000 [==============================] - 57s 1ms/step - loss: 0.0192 - acc: 0.9943\n",
      "Epoch 97/100\n",
      "50000/50000 [==============================] - 58s 1ms/step - loss: 0.0110 - acc: 0.9963\n",
      "Epoch 98/100\n",
      "50000/50000 [==============================] - 58s 1ms/step - loss: 0.0048 - acc: 0.9985\n",
      "Epoch 99/100\n",
      "50000/50000 [==============================] - 57s 1ms/step - loss: 0.0101 - acc: 0.9970\n",
      "Epoch 100/100\n",
      "50000/50000 [==============================] - 57s 1ms/step - loss: 0.0158 - acc: 0.9955\n"
     ]
    },
    {
     "data": {
      "text/plain": [
       "<keras.callbacks.History at 0x1e122e7acf8>"
      ]
     },
     "execution_count": 4,
     "metadata": {},
     "output_type": "execute_result"
    }
   ],
   "source": [
    "\n",
    "classifier=Sequential()\n",
    "\n",
    "#卷積組合\n",
    "classifier.add(Convolution2D(32,(3,3),padding='same',input_shape=(32,32,3),activation='relu'))  #32,3,3,input_shape=(32,32,3),activation='relu''\n",
    "classifier.add(BatchNormalization())\n",
    "\n",
    "'''自己決定MaxPooling2D放在哪裡'''\n",
    "classifier.add(MaxPooling2D(pool_size=(2,2)))\n",
    "\n",
    "#卷積組合\n",
    "classifier.add(Convolution2D(32,(3,3),padding='same',activation='relu'))\n",
    "classifier.add(BatchNormalization())\n",
    "#classifier.add(MaxPooling2D(pool_size=(2,2)))\n",
    "\n",
    "#flatten\n",
    "classifier.add(Flatten())\n",
    "\n",
    "#FC\n",
    "classifier.add(Dense(units=100, activation='relu')) #output_dim=100,activation=relu\n",
    "#classifier.add(Dropout(rate = 0.25))\n",
    "\n",
    "#輸出\n",
    "classifier.add(Dense(output_dim=10,activation='softmax'))\n",
    "\n",
    "\n",
    "#超過兩個就要選categorical_crossentrophy\n",
    "classifier.compile(optimizer = 'adam', loss = 'categorical_crossentropy', metrics = ['accuracy'])\n",
    "classifier.fit(x_train,y_train,batch_size=100,epochs=100)"
   ]
  },
  {
   "cell_type": "markdown",
   "metadata": {},
   "source": [
    "## 預測新圖片，輸入影像前處理要與訓練時相同\n",
    "#### ((X-mean)/(std+1e-7) ):這裡的mean跟std是訓練集的\n",
    "## 維度如下方示範"
   ]
  },
  {
   "cell_type": "code",
   "execution_count": 5,
   "metadata": {},
   "outputs": [
    {
     "data": {
      "text/plain": [
       "array([[7.1223639e-07, 6.1321043e-10, 5.1182724e-04, 9.2634398e-01,\n",
       "        2.0171478e-04, 1.2683704e-09, 7.2917886e-02, 4.8366595e-09,\n",
       "        2.3823124e-05, 7.1640881e-13]], dtype=float32)"
      ]
     },
     "execution_count": 5,
     "metadata": {},
     "output_type": "execute_result"
    }
   ],
   "source": [
    "input_example=(np.zeros(shape=(1,32,32,3))-mean_train)/(std_train+1e-7) \n",
    "classifier.predict(input_example)"
   ]
  },
  {
   "cell_type": "code",
   "execution_count": null,
   "metadata": {},
   "outputs": [],
   "source": []
  }
 ],
 "metadata": {
  "kernelspec": {
   "display_name": "Python 3",
   "language": "python",
   "name": "python3"
  },
  "language_info": {
   "codemirror_mode": {
    "name": "ipython",
    "version": 3
   },
   "file_extension": ".py",
   "mimetype": "text/x-python",
   "name": "python",
   "nbconvert_exporter": "python",
   "pygments_lexer": "ipython3",
   "version": "3.6.9"
  }
 },
 "nbformat": 4,
 "nbformat_minor": 2
}
