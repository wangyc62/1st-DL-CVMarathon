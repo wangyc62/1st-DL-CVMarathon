{
 "cells": [
  {
   "cell_type": "markdown",
   "metadata": {},
   "source": [
    "## 『本次練習內容』\n",
    "#### 運用這幾天所學觀念搭建一個CNN分類器"
   ]
  },
  {
   "cell_type": "markdown",
   "metadata": {},
   "source": [
    "## 『本次練習目的』\n",
    "  #### 熟悉CNN分類器搭建步驟與原理\n",
    "  #### 學員們可以嘗試不同搭法，如使用不同的Maxpooling層，用GlobalAveragePooling取代Flatten等等"
   ]
  },
  {
   "cell_type": "code",
   "execution_count": 1,
   "metadata": {},
   "outputs": [
    {
     "name": "stderr",
     "output_type": "stream",
     "text": [
      "Using TensorFlow backend.\n"
     ]
    }
   ],
   "source": [
    "from keras.models import Sequential\n",
    "from keras.layers import Convolution2D\n",
    "from keras.layers import MaxPooling2D\n",
    "from keras.layers import Flatten\n",
    "from keras.layers import Dense\n",
    "from keras.layers import Dropout\n",
    "from keras.layers import BatchNormalization\n",
    "from keras.datasets import cifar10\n",
    "#from keras.layers import GlobalAveragePooling2D\n",
    "\n",
    "import numpy as np\n",
    "import tensorflow as tf\n",
    "from sklearn.preprocessing import OneHotEncoder\n"
   ]
  },
  {
   "cell_type": "code",
   "execution_count": 2,
   "metadata": {},
   "outputs": [
    {
     "name": "stdout",
     "output_type": "stream",
     "text": [
      "(50000, 32, 32, 3)\n"
     ]
    }
   ],
   "source": [
    "(x_train, y_train), (x_test, y_test) = cifar10.load_data()\n",
    "\n",
    "print(x_train.shape) #(50000, 32, 32, 3)\n",
    "\n",
    "## Normalize Data\n",
    "def normalize(X_train,X_test):\n",
    "        mean = np.mean(X_train,axis=(0,1,2,3))\n",
    "        std = np.std(X_train, axis=(0, 1, 2, 3))\n",
    "        X_train = (X_train-mean)/(std+1e-7)\n",
    "        X_test = (X_test-mean)/(std+1e-7) \n",
    "        return X_train, X_test,mean,std\n",
    "    \n",
    "    \n",
    "## Normalize Training and Testset    \n",
    "x_train, x_test,mean_train,std_train = normalize(x_train, x_test) "
   ]
  },
  {
   "cell_type": "code",
   "execution_count": 3,
   "metadata": {},
   "outputs": [
    {
     "name": "stderr",
     "output_type": "stream",
     "text": [
      "C:\\Anaconda3\\envs\\testAI\\lib\\site-packages\\sklearn\\preprocessing\\_encoders.py:415: FutureWarning: The handling of integer data will change in version 0.22. Currently, the categories are determined based on the range [0, max(values)], while in the future they will be determined based on the unique values.\n",
      "If you want the future behaviour and silence this warning, you can specify \"categories='auto'\".\n",
      "In case you used a LabelEncoder before this OneHotEncoder to convert the categories to integers, then you can now use the OneHotEncoder directly.\n",
      "  warnings.warn(msg, FutureWarning)\n"
     ]
    }
   ],
   "source": [
    "## OneHot Label 由(None, 1)-(None, 10)\n",
    "## ex. label=2,變成[0,0,1,0,0,0,0,0,0,0]\n",
    "one_hot=OneHotEncoder()\n",
    "y_train=one_hot.fit_transform(y_train).toarray()\n",
    "y_test=one_hot.transform(y_test).toarray()"
   ]
  },
  {
   "cell_type": "code",
   "execution_count": 4,
   "metadata": {},
   "outputs": [
    {
     "name": "stdout",
     "output_type": "stream",
     "text": [
      "WARNING:tensorflow:From C:\\Anaconda3\\envs\\testAI\\lib\\site-packages\\keras\\backend\\tensorflow_backend.py:74: The name tf.get_default_graph is deprecated. Please use tf.compat.v1.get_default_graph instead.\n",
      "\n",
      "WARNING:tensorflow:From C:\\Anaconda3\\envs\\testAI\\lib\\site-packages\\keras\\backend\\tensorflow_backend.py:517: The name tf.placeholder is deprecated. Please use tf.compat.v1.placeholder instead.\n",
      "\n",
      "WARNING:tensorflow:From C:\\Anaconda3\\envs\\testAI\\lib\\site-packages\\keras\\backend\\tensorflow_backend.py:4138: The name tf.random_uniform is deprecated. Please use tf.random.uniform instead.\n",
      "\n",
      "WARNING:tensorflow:From C:\\Anaconda3\\envs\\testAI\\lib\\site-packages\\keras\\backend\\tensorflow_backend.py:174: The name tf.get_default_session is deprecated. Please use tf.compat.v1.get_default_session instead.\n",
      "\n",
      "WARNING:tensorflow:From C:\\Anaconda3\\envs\\testAI\\lib\\site-packages\\keras\\backend\\tensorflow_backend.py:181: The name tf.ConfigProto is deprecated. Please use tf.compat.v1.ConfigProto instead.\n",
      "\n",
      "WARNING:tensorflow:From C:\\Anaconda3\\envs\\testAI\\lib\\site-packages\\keras\\backend\\tensorflow_backend.py:186: The name tf.Session is deprecated. Please use tf.compat.v1.Session instead.\n",
      "\n",
      "WARNING:tensorflow:From C:\\Anaconda3\\envs\\testAI\\lib\\site-packages\\keras\\backend\\tensorflow_backend.py:190: The name tf.global_variables is deprecated. Please use tf.compat.v1.global_variables instead.\n",
      "\n",
      "WARNING:tensorflow:From C:\\Anaconda3\\envs\\testAI\\lib\\site-packages\\keras\\backend\\tensorflow_backend.py:199: The name tf.is_variable_initialized is deprecated. Please use tf.compat.v1.is_variable_initialized instead.\n",
      "\n",
      "WARNING:tensorflow:From C:\\Anaconda3\\envs\\testAI\\lib\\site-packages\\keras\\backend\\tensorflow_backend.py:206: The name tf.variables_initializer is deprecated. Please use tf.compat.v1.variables_initializer instead.\n",
      "\n",
      "WARNING:tensorflow:From C:\\Anaconda3\\envs\\testAI\\lib\\site-packages\\keras\\backend\\tensorflow_backend.py:1834: The name tf.nn.fused_batch_norm is deprecated. Please use tf.compat.v1.nn.fused_batch_norm instead.\n",
      "\n",
      "WARNING:tensorflow:From C:\\Anaconda3\\envs\\testAI\\lib\\site-packages\\keras\\backend\\tensorflow_backend.py:133: The name tf.placeholder_with_default is deprecated. Please use tf.compat.v1.placeholder_with_default instead.\n",
      "\n",
      "WARNING:tensorflow:From C:\\Anaconda3\\envs\\testAI\\lib\\site-packages\\keras\\backend\\tensorflow_backend.py:3976: The name tf.nn.max_pool is deprecated. Please use tf.nn.max_pool2d instead.\n",
      "\n",
      "WARNING:tensorflow:From C:\\Anaconda3\\envs\\testAI\\lib\\site-packages\\keras\\optimizers.py:790: The name tf.train.Optimizer is deprecated. Please use tf.compat.v1.train.Optimizer instead.\n",
      "\n",
      "WARNING:tensorflow:From C:\\Anaconda3\\envs\\testAI\\lib\\site-packages\\keras\\backend\\tensorflow_backend.py:3295: The name tf.log is deprecated. Please use tf.math.log instead.\n",
      "\n",
      "WARNING:tensorflow:From C:\\Anaconda3\\envs\\testAI\\lib\\site-packages\\tensorflow_core\\python\\ops\\math_grad.py:1424: where (from tensorflow.python.ops.array_ops) is deprecated and will be removed in a future version.\n",
      "Instructions for updating:\n",
      "Use tf.where in 2.0, which has the same broadcast rule as np.where\n"
     ]
    },
    {
     "name": "stderr",
     "output_type": "stream",
     "text": [
      "C:\\Anaconda3\\envs\\testAI\\lib\\site-packages\\ipykernel_launcher.py:24: UserWarning: Update your `Dense` call to the Keras 2 API: `Dense(activation=\"softmax\", units=10)`\n"
     ]
    },
    {
     "name": "stdout",
     "output_type": "stream",
     "text": [
      "WARNING:tensorflow:From C:\\Anaconda3\\envs\\testAI\\lib\\site-packages\\keras\\backend\\tensorflow_backend.py:986: The name tf.assign_add is deprecated. Please use tf.compat.v1.assign_add instead.\n",
      "\n",
      "WARNING:tensorflow:From C:\\Anaconda3\\envs\\testAI\\lib\\site-packages\\keras\\backend\\tensorflow_backend.py:973: The name tf.assign is deprecated. Please use tf.compat.v1.assign instead.\n",
      "\n",
      "Epoch 1/5\n",
      "50000/50000 [==============================] - 60s 1ms/step - loss: 1.2730 - acc: 0.5555\n",
      "Epoch 2/5\n",
      "50000/50000 [==============================] - 60s 1ms/step - loss: 0.8056 - acc: 0.7181\n",
      "Epoch 3/5\n",
      "50000/50000 [==============================] - 59s 1ms/step - loss: 0.5735 - acc: 0.7991\n",
      "Epoch 4/5\n",
      "50000/50000 [==============================] - 61s 1ms/step - loss: 0.3813 - acc: 0.8677\n",
      "Epoch 5/5\n",
      "50000/50000 [==============================] - 60s 1ms/step - loss: 0.2450 - acc: 0.9156\n"
     ]
    },
    {
     "data": {
      "text/plain": [
       "<keras.callbacks.History at 0x1cd8cd74cf8>"
      ]
     },
     "execution_count": 4,
     "metadata": {},
     "output_type": "execute_result"
    }
   ],
   "source": [
    "\n",
    "classifier=Sequential()\n",
    "\n",
    "#卷積組合\n",
    "classifier.add(Convolution2D(32,(3,3),padding='same',input_shape=(32,32,3),activation='relu'))  #32,3,3,input_shape=(32,32,3),activation='relu''\n",
    "classifier.add(BatchNormalization())\n",
    "\n",
    "'''自己決定MaxPooling2D放在哪裡'''\n",
    "classifier.add(MaxPooling2D(pool_size=(2,2)))\n",
    "\n",
    "#卷積組合\n",
    "classifier.add(Convolution2D(32,(3,3),padding='same',activation='relu'))\n",
    "classifier.add(BatchNormalization())\n",
    "#classifier.add(MaxPooling2D(pool_size=(2,2)))\n",
    "\n",
    "#flatten\n",
    "classifier.add(Flatten())\n",
    "#classifier.add(GlobalAveragePooling2D())\n",
    "\n",
    "#FC\n",
    "classifier.add(Dense(units=100, activation='relu')) #output_dim=100,activation=relu\n",
    "#classifier.add(Dropout(rate = 0.25))\n",
    "\n",
    "#輸出\n",
    "classifier.add(Dense(output_dim=10,activation='softmax'))\n",
    "\n",
    "\n",
    "#超過兩個就要選categorical_crossentrophy\n",
    "classifier.compile(optimizer = 'adam', loss = 'categorical_crossentropy', metrics = ['accuracy'])\n",
    "classifier.fit(x_train,y_train,batch_size=100,epochs=100)"
   ]
  },
  {
   "cell_type": "markdown",
   "metadata": {},
   "source": [
    "## 預測新圖片，輸入影像前處理要與訓練時相同\n",
    "#### ((X-mean)/(std+1e-7) ):這裡的mean跟std是訓練集的\n",
    "## 維度如下方示範"
   ]
  },
  {
   "cell_type": "code",
   "execution_count": 5,
   "metadata": {},
   "outputs": [
    {
     "data": {
      "text/plain": [
       "array([[4.77057695e-01, 4.18252330e-06, 8.42812732e-02, 4.02389973e-01,\n",
       "        4.50884504e-03, 2.11138278e-03, 7.06974184e-04, 1.63764153e-02,\n",
       "        1.24551952e-02, 1.08018285e-04]], dtype=float32)"
      ]
     },
     "execution_count": 5,
     "metadata": {},
     "output_type": "execute_result"
    }
   ],
   "source": [
    "input_example=(np.zeros(shape=(1,32,32,3))-mean_train)/(std_train+1e-7) \n",
    "classifier.predict(input_example)"
   ]
  },
  {
   "cell_type": "markdown",
   "metadata": {},
   "source": [
    "day15作業參數與結果測試\n",
    "\n",
    "(1)同12/13的原始程式碼 (batch_size=100,epochs=100)\n",
    "Epoch 1/100\n",
    "50000/50000 [==============================] - 60s 1ms/step - loss: 1.2490 - acc: 0.5679\n",
    "Epoch 2/100\n",
    "50000/50000 [==============================] - 59s 1ms/step - loss: 0.8047 - acc: 0.7174\n",
    "Epoch 3/100\n",
    "50000/50000 [==============================] - 58s 1ms/step - loss: 0.5768 - acc: 0.7987\n",
    "Epoch 4/100\n",
    "50000/50000 [==============================] - 59s 1ms/step - loss: 0.3911 - acc: 0.8645\n",
    "Epoch 5/100\n",
    "50000/50000 [==============================] - 58s 1ms/step - loss: 0.2515 - acc: 0.9139\n",
    "\n",
    "(2) batch_size=150,epochs=5 (降低epochs是為了快速知道大概的趨勢)\n",
    "Epoch 1/10\n",
    "50000/50000 [==============================] - 59s 1ms/step - loss: 1.2846 - acc: 0.5530\n",
    "Epoch 2/10\n",
    "50000/50000 [==============================] - 58s 1ms/step - loss: 0.8200 - acc: 0.7116\n",
    "Epoch 3/10\n",
    "50000/50000 [==============================] - 61s 1ms/step - loss: 0.5768 - acc: 0.7993\n",
    "Epoch 4/10\n",
    "50000/50000 [==============================] - 59s 1ms/step - loss: 0.3811 - acc: 0.8685\n",
    "Epoch 5/10\n",
    "50000/50000 [==============================] - 58s 1ms/step - loss: 0.2455 - acc: 0.9156\n",
    "\n",
    "(3) batch_size=200  ->增大兩倍沒有甚麼變化\n",
    "Epoch 1/10\n",
    "50000/50000 [==============================] - 60s 1ms/step - loss: 1.3132 - acc: 0.5472\n",
    "Epoch 2/10\n",
    "50000/50000 [==============================] - 60s 1ms/step - loss: 0.8059 - acc: 0.7187\n",
    "Epoch 3/10\n",
    "50000/50000 [==============================] - 58s 1ms/step - loss: 0.5432 - acc: 0.8103\n",
    "Epoch 4/10\n",
    "50000/50000 [==============================] - 58s 1ms/step - loss: 0.3377 - acc: 0.8859\n",
    "Epoch 5/10\n",
    "50000/50000 [==============================] - 58s 1ms/step - loss: 0.2057 - acc: 0.9344\n",
    "\n",
    "(4) batch_size=50   →降低batch_size,時間會拉長,精確度也較差\n",
    "Epoch 1/5\n",
    "50000/50000 [==============================] - 67s 1ms/step - loss: 1.2722 - acc: 0.5594\n",
    "Epoch 2/5\n",
    "50000/50000 [==============================] - 66s 1ms/step - loss: 0.8335 - acc: 0.7060\n",
    "Epoch 3/5\n",
    "50000/50000 [==============================] - 68s 1ms/step - loss: 0.6301 - acc: 0.7811\n",
    "Epoch 4/5\n",
    "50000/50000 [==============================] - 66s 1ms/step - loss: 0.4595 - acc: 0.8404\n",
    "Epoch 5/5\n",
    "50000/50000 [==============================] - 67s 1ms/step - loss: 0.3202 - acc: 0.8895\n",
    "\n",
    "(5) 在第2捲積後增加maxpooling   → 時間接近.但準確度上升慢\n",
    "Epoch 1/5\n",
    "50000/50000 [==============================] - 61s 1ms/step - loss: 1.3199 - acc: 0.5345\n",
    "Epoch 2/5\n",
    "50000/50000 [==============================] - 60s 1ms/step - loss: 0.9111 - acc: 0.6803\n",
    "Epoch 3/5\n",
    "50000/50000 [==============================] - 60s 1ms/step - loss: 0.7564 - acc: 0.7336\n",
    "Epoch 4/5\n",
    "50000/50000 [==============================] - 60s 1ms/step - loss: 0.6389 - acc: 0.7775\n",
    "Epoch 5/5\n",
    "50000/50000 [==============================] - 61s 1ms/step - loss: 0.5400 - acc: 0.8102\n",
    "\n",
    "(6)將1st之捲積後的MaxPooling2D(pool_size=(3,3)   -> 訓練時間大幅縮短,但精度上升慢\n",
    "Epoch 1/5\n",
    "50000/50000 [==============================] - 43s 867us/step - loss: 1.2672 - acc: 0.5561\n",
    "Epoch 2/5\n",
    "50000/50000 [==============================] - 41s 827us/step - loss: 0.8642 - acc: 0.6955\n",
    "Epoch 3/5\n",
    "50000/50000 [==============================] - 44s 871us/step - loss: 0.6768 - acc: 0.7629\n",
    "Epoch 4/5\n",
    "50000/50000 [==============================] - 43s 856us/step - loss: 0.5363 - acc: 0.8132\n",
    "Epoch 5/5\n",
    "50000/50000 [==============================] - 41s 823us/step - loss: 0.4181 - acc: 0.8543\n",
    "\n",
    "(7)用GlobalAveragePooling2D取代Flatten  ->訓練時間小幅縮短,但精度上升更慢\n",
    "Epoch 1/5\n",
    "50000/50000 [==============================] - 56s 1ms/step - loss: 1.6386 - acc: 0.3968\n",
    "Epoch 2/5\n",
    "50000/50000 [==============================] - 53s 1ms/step - loss: 1.3269 - acc: 0.5193\n",
    "Epoch 3/5\n",
    "50000/50000 [==============================] - 53s 1ms/step - loss: 1.2032 - acc: 0.5660\n",
    "Epoch 4/5\n",
    "50000/50000 [==============================] - 53s 1ms/step - loss: 1.1311 - acc: 0.5931\n",
    "Epoch 5/5\n",
    "50000/50000 [==============================] - 53s 1ms/step - loss: 1.0790 - acc: 0.6115\n",
    "\n",
    "(8)將第一層maxpooling改到第二層後   →時間大幅增加(比(5)更多),精度接近(5)\n",
    "Epoch 1/5\n",
    "50000/50000 [==============================] - 99s 2ms/step - loss: 1.3473 - acc: 0.5259\n",
    "Epoch 2/5\n",
    "50000/50000 [==============================] - 99s 2ms/step - loss: 0.9332 - acc: 0.6712\n",
    "Epoch 3/5\n",
    "50000/50000 [==============================] - 98s 2ms/step - loss: 0.7767 - acc: 0.7264\n",
    "Epoch 4/5\n",
    "50000/50000 [==============================] - 99s 2ms/step - loss: 0.6510 - acc: 0.7720\n",
    "Epoch 5/5\n",
    "50000/50000 [==============================] - 99s 2ms/step - loss: 0.5350 - acc: 0.8145\n",
    "\n",
    "\n"
   ]
  }
 ],
 "metadata": {
  "kernelspec": {
   "display_name": "Python 3",
   "language": "python",
   "name": "python3"
  },
  "language_info": {
   "codemirror_mode": {
    "name": "ipython",
    "version": 3
   },
   "file_extension": ".py",
   "mimetype": "text/x-python",
   "name": "python",
   "nbconvert_exporter": "python",
   "pygments_lexer": "ipython3",
   "version": "3.6.9"
  }
 },
 "nbformat": 4,
 "nbformat_minor": 2
}
